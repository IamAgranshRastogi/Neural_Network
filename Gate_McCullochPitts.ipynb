{
  "nbformat": 4,
  "nbformat_minor": 0,
  "metadata": {
    "colab": {
      "provenance": [],
      "authorship_tag": "ABX9TyMg0RoD/FUJJoqday6eMbWz",
      "include_colab_link": true
    },
    "kernelspec": {
      "name": "python3",
      "display_name": "Python 3"
    },
    "language_info": {
      "name": "python"
    }
  },
  "cells": [
    {
      "cell_type": "markdown",
      "metadata": {
        "id": "view-in-github",
        "colab_type": "text"
      },
      "source": [
        "<a href=\"https://colab.research.google.com/github/IamAgranshRastogi/Neural_Network/blob/main/Gate_McCullochPitts.ipynb\" target=\"_parent\"><img src=\"https://colab.research.google.com/assets/colab-badge.svg\" alt=\"Open In Colab\"/></a>"
      ]
    },
    {
      "cell_type": "code",
      "execution_count": null,
      "metadata": {
        "id": "f4OkntfellJI"
      },
      "outputs": [],
      "source": [
        "from tabulate import tabulate"
      ]
    },
    {
      "cell_type": "markdown",
      "source": [
        "##AND GATE"
      ],
      "metadata": {
        "id": "UHAVnmMVmKF8"
      }
    },
    {
      "cell_type": "code",
      "source": [
        "#inputs\n",
        "x1 = [0, 0, 1, 1]\n",
        "x2 = [0, 1, 0, 1]\n",
        "w1 = [1, 1, 1, 1]\n",
        "w2 = [1, 1, 1, 1]\n",
        "t = 2\n",
        "#output\n",
        "print(\"x1    x2    w1   w2     t     O\")\n",
        "for i in range(len(x1)):\n",
        "    if ( x1[i]*w1[i] + x2[i]*w2[i] ) >= t:\n",
        "        print(x1[i],'   ',x2[i],'   ',w1[i],'   ',w2[i],'   ',t,'   ', 1)\n",
        "    else:\n",
        "        print(x1[i],'   ',x2[i],'   ',w1[i],'   ',w2[i],'   ',t,'   ', 0)"
      ],
      "metadata": {
        "colab": {
          "base_uri": "https://localhost:8080/"
        },
        "id": "fFZhn4kKln62",
        "outputId": "add06fd4-de18-41da-b93d-a27aeeee9263"
      },
      "execution_count": null,
      "outputs": [
        {
          "output_type": "stream",
          "name": "stdout",
          "text": [
            "x1    x2    w1   w2     t     O\n",
            "0     0     1     1     2     0\n",
            "0     1     1     1     2     0\n",
            "1     0     1     1     2     0\n",
            "1     1     1     1     2     1\n"
          ]
        }
      ]
    },
    {
      "cell_type": "markdown",
      "source": [
        "##OR GATE"
      ],
      "metadata": {
        "id": "Q8y4qfmvmbzZ"
      }
    },
    {
      "cell_type": "code",
      "source": [
        "#inputs\n",
        "x1 = [0, 0, 1, 1]\n",
        "x2 = [0, 1, 0, 1]\n",
        "w1 = [1, 1, 1, 1]\n",
        "w2 = [1, 1, 1, 1]\n",
        "t = 1\n",
        "#output\n",
        "print(\"x1    x2    w1   w2     t     O\")\n",
        "for i in range(len(x1)):\n",
        "    if ( x1[i]*w1[i] + x2[i]*w2[i] ) >= t:\n",
        "        print(x1[i],'   ',x2[i],'   ',w1[i],'   ',w2[i],'   ',t,'   ', 1)\n",
        "    else:\n",
        "        print(x1[i],'   ',x2[i],'   ',w1[i],'   ',w2[i],'   ',t,'   ', 0)"
      ],
      "metadata": {
        "colab": {
          "base_uri": "https://localhost:8080/"
        },
        "id": "-7Tn4-sJlwPH",
        "outputId": "5147fabf-af90-44a0-ccb0-7c7bb9eacc71"
      },
      "execution_count": null,
      "outputs": [
        {
          "output_type": "stream",
          "name": "stdout",
          "text": [
            "x1    x2    w1   w2     t     O\n",
            "0     0     1     1     1     0\n",
            "0     1     1     1     1     1\n",
            "1     0     1     1     1     1\n",
            "1     1     1     1     1     1\n"
          ]
        }
      ]
    },
    {
      "cell_type": "markdown",
      "source": [
        "##NOT GATE"
      ],
      "metadata": {
        "id": "fErkF_4DmlCe"
      }
    },
    {
      "cell_type": "code",
      "source": [
        "#inputs\n",
        "x = [0, 1]\n",
        "w = [-1, -1]\n",
        "t = 0\n",
        "#output\n",
        "print(\"x      w     t     O\")\n",
        "for i in range(len(x)):\n",
        "    if ( x[i]*w[i]) >= t:\n",
        "        print(x[i],'   ',w[i],'   ',t,'   ', 1)\n",
        "    else:\n",
        "        print(x[i],'   ',w[i],'   ',t,'   ', 0)"
      ],
      "metadata": {
        "colab": {
          "base_uri": "https://localhost:8080/"
        },
        "id": "Qo02-hvBmdsM",
        "outputId": "eabd0ed0-0d67-4413-879d-999829e844e6"
      },
      "execution_count": null,
      "outputs": [
        {
          "output_type": "stream",
          "name": "stdout",
          "text": [
            "x      w     t     O\n",
            "0     -1     0     1\n",
            "1     -1     0     0\n"
          ]
        }
      ]
    },
    {
      "cell_type": "markdown",
      "source": [
        "##XOR GATE"
      ],
      "metadata": {
        "id": "CoGbgTekoDIh"
      }
    },
    {
      "cell_type": "code",
      "source": [
        "#inputs\n",
        "x1 = [0, 0, 1, 1]\n",
        "x2 = [0, 1, 0, 1]\n",
        "w1 = [1, 1, 1, 1]\n",
        "w2 = [1, 1, 1, 1]\n",
        "w3 = [1, 1, 1, 1]\n",
        "w4 = [-1, -1, -1, -1]\n",
        "w5 = [-1, -1, -1, -1]\n",
        "w6 = [1, 1, 1, 1]\n",
        "t1 = [0.5,0.5,0.5,0.5]\n",
        "t2 = [-1.5,-1.5,-1.5,-1.5]\n",
        "t3 = [1.5,1.5,1.5,1.5]\n",
        "def XOR (a, b):\n",
        "    if a != b:\n",
        "        return 1\n",
        "    else:\n",
        "        return 0\n",
        "#output\n",
        "print('x1  x2  w1  w2  w3  w4   w5   w6   t1    t2    t3    O')\n",
        "for i in range(len(x1)):\n",
        "    print(x1[i],' ',x2[i],' ',w1[i],' ',w2[i],' ',\n",
        "          w3[i],' ',w4[i],' ',w5[i],' ',w6[i],' ',\n",
        "          t1[i],' ',t2[i],' ',t3[i],' ',XOR(x1[i],x2[i]))"
      ],
      "metadata": {
        "colab": {
          "base_uri": "https://localhost:8080/"
        },
        "id": "h5spePBUmn1I",
        "outputId": "4f825bf7-b947-4741-d0b6-7676cd743aaa"
      },
      "execution_count": null,
      "outputs": [
        {
          "output_type": "stream",
          "name": "stdout",
          "text": [
            "x1  x2  w1  w2  w3  w4   w5   w6   t1    t2    t3    O\n",
            "0   0   1   1   1   -1   -1   1   0.5   -1.5   1.5   0\n",
            "0   1   1   1   1   -1   -1   1   0.5   -1.5   1.5   1\n",
            "1   0   1   1   1   -1   -1   1   0.5   -1.5   1.5   1\n",
            "1   1   1   1   1   -1   -1   1   0.5   -1.5   1.5   0\n"
          ]
        }
      ]
    },
    {
      "cell_type": "code",
      "source": [],
      "metadata": {
        "id": "27j3mOlGnLA5"
      },
      "execution_count": null,
      "outputs": []
    }
  ]
}