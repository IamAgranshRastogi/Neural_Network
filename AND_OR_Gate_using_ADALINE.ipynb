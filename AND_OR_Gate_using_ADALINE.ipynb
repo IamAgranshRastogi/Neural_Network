{
  "nbformat": 4,
  "nbformat_minor": 0,
  "metadata": {
    "colab": {
      "provenance": [],
      "authorship_tag": "ABX9TyOHsprEMl3mDrxsVGNpFBDm",
      "include_colab_link": true
    },
    "kernelspec": {
      "name": "python3",
      "display_name": "Python 3"
    },
    "language_info": {
      "name": "python"
    }
  },
  "cells": [
    {
      "cell_type": "markdown",
      "metadata": {
        "id": "view-in-github",
        "colab_type": "text"
      },
      "source": [
        "<a href=\"https://colab.research.google.com/github/IamAgranshRastogi/Neural_Network/blob/main/AND_OR_Gate_using_ADALINE.ipynb\" target=\"_parent\"><img src=\"https://colab.research.google.com/assets/colab-badge.svg\" alt=\"Open In Colab\"/></a>"
      ]
    },
    {
      "cell_type": "markdown",
      "source": [
        "## OR GATE"
      ],
      "metadata": {
        "id": "DGkXg6bc7lKh"
      }
    },
    {
      "cell_type": "code",
      "execution_count": null,
      "metadata": {
        "id": "clyvcmZhrh5U",
        "colab": {
          "base_uri": "https://localhost:8080/"
        },
        "outputId": "0aa11d18-84b7-4de9-d2d9-b9353e577153"
      },
      "outputs": [
        {
          "output_type": "stream",
          "name": "stdout",
          "text": [
            "[[-1 -1]\n",
            " [-1  1]\n",
            " [ 1 -1]\n",
            " [ 1  1]] [-1  1  1  1]\n",
            "epoch : 1\n",
            "error = -0.09999999999999998\n",
            "error = 0.9199999999999999\n",
            "error = 1.1039999999999999\n",
            "error = -0.5247999999999999\n",
            "sum of squared error =  0.5876577599999998 \n",
            "\n",
            "\n",
            "epoch : 2\n",
            "error = -0.54976\n",
            "error = 0.803712\n",
            "error = 0.8172543999999999\n",
            "error = -0.64406528\n",
            "sum of squared error =  0.5077284689412096 \n",
            "\n",
            "\n",
            "epoch : 3\n",
            "error = -0.6729103360000002\n",
            "error = 0.7483308032\n",
            "error = 0.7399630438400001\n",
            "error = -0.6898669486079996\n",
            "sum of squared error =  0.5090672560860652 \n",
            "\n",
            "\n",
            "epoch : 4\n",
            "error = -0.7047962935296\n",
            "error = 0.72625757847552\n",
            "error = 0.7201693816586239\n",
            "error = -0.7061914301759491\n",
            "sum of squared error =  0.5103845399996764 \n",
            "\n",
            "\n",
            "epoch : 5\n",
            "error = -0.7124421954738586\n",
            "error = 0.7182636328518943\n",
            "error = 0.7154472043637898\n",
            "error = -0.7117071786082882\n",
            "sum of squared error =  0.5104670846209363 \n",
            "\n",
            "\n",
            "epoch : 6\n",
            "error = -0.714060481354338\n",
            "error = 0.715548426006041\n",
            "error = 0.7144420989392495\n",
            "error = -0.7134930727032405\n",
            "sum of squared error =  0.5103479496309858 \n",
            "\n",
            "\n",
            "epoch : 7\n",
            "error = -0.7143209120714415\n",
            "error = 0.7146705871452027\n",
            "error = 0.7142737539596766\n",
            "error = -0.7140502797165604\n",
            "sum of squared error =  0.5102658027779979 \n",
            "\n",
            "\n",
            "epoch : 8\n",
            "error = -0.7143272889928647\n",
            "error = 0.7143984993919014\n",
            "error = 0.7142647152041359\n",
            "error = -0.7142182126044045\n",
            "sum of squared error =  0.510227607583693 \n",
            "\n",
            "\n",
            "epoch : 9\n",
            "error = -0.7143072010372341\n",
            "error = 0.7143174255259156\n",
            "error = 0.7142744539151652\n",
            "error = -0.7142671011374249\n",
            "sum of squared error =  0.5102124122866718 \n",
            "\n",
            "\n",
            "epoch : 10\n",
            "error = -0.7142946765305948\n",
            "error = 0.7142942165270032\n",
            "error = 0.7142809804050706\n",
            "error = -0.7142808151475037\n",
            "sum of squared error =  0.5102068786350209 \n",
            "\n",
            "\n"
          ]
        }
      ],
      "source": [
        "import numpy as np\n",
        "features = np.array([   [-1,-1],\n",
        "        [-1, 1],\n",
        "        [ 1,-1],\n",
        "        [ 1, 1]\n",
        "    ])\n",
        "labels = np.array([-1, 1, 1, 1])\n",
        "print(features, labels)\n",
        "\n",
        "weight = [0.5, 0.5]\n",
        "bias = 0.1\n",
        "learning_rate = 0.2\n",
        "epoch = 10\n",
        "for i in range(epoch):\n",
        "   print(\"epoch :\", i+1)\n",
        "   sum_squared_error = 0.0\n",
        "   for j in range(features.shape[0]):\n",
        "      # actual output to be obtained\n",
        "      actual = labels[j]\n",
        "\n",
        "      x1 = features[j][0]\n",
        "      x2 = features[j][1]\n",
        "\n",
        "      # net unit value computation performed to obtain the\n",
        "      # sum of features multiplied with their weights\n",
        "      unit = (x1 * weight[0]) + (x2 * weight[1]) + bias\n",
        "\n",
        "      # error is computed so as to update the weights\n",
        "      error = actual - unit\n",
        "\n",
        "      print(\"error =\", error)\n",
        "      sum_squared_error += error * error\n",
        "      # updation of weights, summing up of product of learning rate ,\n",
        "      # sum of squared error and feature value\n",
        "      weight[0] += learning_rate * error * x1\n",
        "      weight[1] += learning_rate * error * x2\n",
        "\n",
        "      # updation of bias, summing up of product of learning rate and\n",
        "      # sum of squared error\n",
        "      bias += learning_rate * error\n",
        "   print(\"sum of squared error = \", sum_squared_error/4, \"\\n\\n\")"
      ]
    },
    {
      "cell_type": "markdown",
      "source": [
        "##AND GATE"
      ],
      "metadata": {
        "id": "zZEu3Ptq8FGI"
      }
    },
    {
      "cell_type": "code",
      "source": [
        "lst=[[-1,-1,1,1],[-1,1,-1,1],[1,1,1,1],[0,0,0,0],[],[],[],[],[],[],0,0,0]\n",
        "#list is in the order of w0,w1,w2,yin,Y,target,error,delta w0,delta w1,delta w2,w0,w1,w2\n",
        "def fund(x): #activation function\n",
        "    if(x<0):\n",
        "        return -1\n",
        "    else:\n",
        "        return 1\n",
        "fw1=0\n",
        "fw2=0\n",
        "fw0=0\n",
        "fyin=[]  #final yin values\n",
        "sse=[]\n",
        "epoch=[]\n",
        "print(\"AND GATE\\n\")\n",
        "c=0\n",
        "lst[5]=[-1,-1,-1,1]  #AND gate Output\n",
        "while(1):\n",
        "    lst[3]=[(lst[10]*i)+(lst[11]*j)+(lst[12]*k) for i,j,k in zip(lst[0],lst[1],lst[2])]\n",
        "    lst[6]=[(0.2)*(t-o) for t,o in zip(lst[5],lst[3])] #Error\n",
        "    sse_cal=sum([i**2 for i in lst[6]]) #SSE\n",
        "    sse.append(sse_cal)\n",
        "    epoch.append(c)\n",
        "    lst[7]=[(i*j) for i,j in zip(lst[0],lst[6])] #w0\n",
        "    lst[8]=[(k*l) for k,l in zip(lst[1],lst[6])] #w1\n",
        "    lst[9]=[(m*n) for m,n in zip(lst[2],lst[6])] #w2\n",
        "    lst[4]=[fund(p) for p in lst[3]]\n",
        "\n",
        "    print(\"Epoch {} = {}\\n\".format(c,lst))\n",
        "    if(lst[4]==lst[5]): #if target equals to output then append w values into fwi and break\n",
        "        fw1=lst[10]+sum(lst[7]) #using wi:=wi+delta wi formulae to update wi values.\n",
        "        fw2=lst[11]+sum(lst[8])\n",
        "        fw0=lst[12]+sum(lst[9])\n",
        "        fyin=[(lst[10]*i)+(lst[11]*j)+(lst[12]*k) for i,j,k in zip(lst[0],lst[1],lst[2])]\n",
        "        break\n",
        "    else: #if not then continue iteration and update delta wi\n",
        "        lst[10]=lst[10]+sum(lst[7])\n",
        "        lst[11]=lst[11]+sum(lst[8])\n",
        "        lst[12]=lst[12]+sum(lst[9])\n",
        "    c+=1\n",
        "print(\"\\n\\nFinal\\nw1={}, w2={}, w0={}, Yin(O)={}\".format(fw1,fw2,fw0,fyin))\n",
        "#print the final wi values"
      ],
      "metadata": {
        "id": "Vj1RXLX473Yo",
        "colab": {
          "base_uri": "https://localhost:8080/"
        },
        "outputId": "f827bf1e-5702-41a2-d765-1d78267bb95b"
      },
      "execution_count": null,
      "outputs": [
        {
          "output_type": "stream",
          "name": "stdout",
          "text": [
            "AND GATE\n",
            "\n",
            "Epoch 0 = [[-1, -1, 1, 1], [-1, 1, -1, 1], [1, 1, 1, 1], [0, 0, 0, 0], [1, 1, 1, 1], [-1, -1, -1, 1], [-0.2, -0.2, -0.2, 0.2], [0.2, 0.2, -0.2, 0.2], [0.2, -0.2, 0.2, 0.2], [-0.2, -0.2, -0.2, 0.2], 0, 0, 0]\n",
            "\n",
            "Epoch 1 = [[-1, -1, 1, 1], [-1, 1, -1, 1], [1, 1, 1, 1], [-1.2000000000000002, -0.4000000000000001, -0.4000000000000001, 0.39999999999999997], [-1, -1, -1, 1], [-1, -1, -1, 1], [0.040000000000000036, -0.11999999999999998, -0.11999999999999998, 0.12000000000000002], [-0.040000000000000036, 0.11999999999999998, -0.11999999999999998, 0.12000000000000002], [-0.040000000000000036, -0.11999999999999998, 0.11999999999999998, 0.12000000000000002], [0.040000000000000036, -0.11999999999999998, -0.11999999999999998, 0.12000000000000002], 0.4, 0.4, -0.4000000000000001]\n",
            "\n",
            "\n",
            "\n",
            "Final\n",
            "w1=0.48, w2=0.48, w0=-0.48, Yin(O)=[-1.2000000000000002, -0.4000000000000001, -0.4000000000000001, 0.39999999999999997]\n"
          ]
        }
      ]
    },
    {
      "cell_type": "code",
      "source": [],
      "metadata": {
        "id": "DJ1XqayJhKFk"
      },
      "execution_count": null,
      "outputs": []
    }
  ]
}