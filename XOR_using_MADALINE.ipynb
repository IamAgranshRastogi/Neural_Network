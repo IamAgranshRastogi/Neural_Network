{
  "nbformat": 4,
  "nbformat_minor": 0,
  "metadata": {
    "colab": {
      "provenance": [],
      "authorship_tag": "ABX9TyPwWDus7u3VPRdz7yr1QAAX",
      "include_colab_link": true
    },
    "kernelspec": {
      "name": "python3",
      "display_name": "Python 3"
    },
    "language_info": {
      "name": "python"
    }
  },
  "cells": [
    {
      "cell_type": "markdown",
      "metadata": {
        "id": "view-in-github",
        "colab_type": "text"
      },
      "source": [
        "<a href=\"https://colab.research.google.com/github/IamAgranshRastogi/Neural_Network/blob/main/XOR_using_MADALINE.ipynb\" target=\"_parent\"><img src=\"https://colab.research.google.com/assets/colab-badge.svg\" alt=\"Open In Colab\"/></a>"
      ]
    },
    {
      "cell_type": "code",
      "execution_count": null,
      "metadata": {
        "id": "-AlL3mOECEwC"
      },
      "outputs": [],
      "source": [
        "import numpy as np\n",
        "import pandas as pd"
      ]
    },
    {
      "cell_type": "code",
      "source": [
        "def activation_fn(z):\n",
        "\tif z>=0:\n",
        "\t\treturn 1\n",
        "\telse:\n",
        "\t\treturn -1\n",
        "\n",
        "def Madaline(Input, Target, lr, epoch):\n",
        "\tweight = np.random.random((Input.shape[1],Input.shape[1]))\n",
        "\tbias = np.random.random(Input.shape[1])\n",
        "\n",
        "\tw = np.array([0.5 for i in range(weight.shape[1])])\n",
        "\tb = 0.5\n",
        "\tk = 0\n",
        "\twhile k<epoch:\n",
        "\t\terror = []\n",
        "\t\tz_input = np.zeros(bias.shape[0])\n",
        "\t\tz = np.zeros(bias.shape[0])\n",
        "\t\tfor i in range(Input.shape[0]):\n",
        "\t\t\tfor j in range(Input.shape[1]):\n",
        "\t\t\t\tz_input[j] = sum(weight[j]*Input[i]) + bias[j]\n",
        "\t\t\t\tz[j]= activation_fn(z_input[j])\n",
        "\n",
        "\t\t\ty_input = sum(z*w) +b\n",
        "\n",
        "\t\t\ty = activation_fn(y_input)\n",
        "\t\t\t# Update the weight & bias\n",
        "\t\t\tif y != Target[i]:\n",
        "\t\t\t\tfor j in range(weight.shape[1]):\n",
        "\t\t\t\t\tweight[j]= weight[j] + lr*(Target[i]-z_input[j])*Input[i][j]\n",
        "\t\t\t\t\tbias[j] = bias[j] + lr*(Target[i]-z_input[j])\n",
        "\n",
        "\t\t\t# Store squared error value\n",
        "\t\t\terror.append((Target[i]-z_input)**2)\n",
        "\t\t# compute sum of square error\n",
        "\t\tError = sum(error)\n",
        "\t\tprint(k,'>> Error :',Error)\n",
        "\t\tk+=1\n",
        "\n",
        "\treturn weight, bias\n",
        "# Input dataset\n",
        "x = np.array([[1.0, 1.0, 1.0], [1.0, -1.0, 1.0],\n",
        "\t\t\t[-1.0, 1.0, 1.0], [-1.0, -1.0, -1.0]])\n",
        "# Target values\n",
        "t = np.array([1, 1, 1, -1])\n",
        "\n",
        "w,b = Madaline(x, t, 0.0001, 3)\n",
        "print('weight :',w)\n",
        "print('Bias :',b)\n",
        "\n",
        "def prediction(X, w,b):\n",
        "    y =[]\n",
        "    for i in range(X.shape[0]):\n",
        "        x = X[i]\n",
        "        z1 = x*w\n",
        "        z_1 =[]\n",
        "        for j in range(z1.shape[1]):\n",
        "            z_1.append(activation_fn(sum(z1[j])+b[j]))\n",
        "        y_in = sum(np.array(z_1)*np.array([0.5 for j in range(w.shape[1])])) + 0.5\n",
        "        y.append(activation_fn(y_in))\n",
        "    return y\n",
        "print('\\n', prediction(x, w, b))\n"
      ],
      "metadata": {
        "colab": {
          "base_uri": "https://localhost:8080/"
        },
        "id": "XQvVmWbGCQI5",
        "outputId": "2218f416-e77c-4ada-c69a-6d3c7ceeb04d"
      },
      "execution_count": null,
      "outputs": [
        {
          "output_type": "stream",
          "name": "stdout",
          "text": [
            "0 >> Error : [0.83781608 0.90702222 3.76861438]\n",
            "1 >> Error : [0.83781608 0.90702222 3.76861438]\n",
            "2 >> Error : [0.83781608 0.90702222 3.76861438]\n",
            "weight : [[0.58843231 0.26812866 0.53166412]\n",
            " [0.28524764 0.59481059 0.33534079]\n",
            " [0.77769537 0.68197544 0.4031923 ]]\n",
            "Bias : [0.40138883 0.5449316  0.98852066]\n",
            "\n",
            " [1, 1, 1, -1]\n"
          ]
        }
      ]
    }
  ]
}