{
  "nbformat": 4,
  "nbformat_minor": 0,
  "metadata": {
    "colab": {
      "provenance": [],
      "authorship_tag": "ABX9TyMZsLUXkjCy+Js5EbBXIsgx",
      "include_colab_link": true
    },
    "kernelspec": {
      "name": "python3",
      "display_name": "Python 3"
    },
    "language_info": {
      "name": "python"
    }
  },
  "cells": [
    {
      "cell_type": "markdown",
      "metadata": {
        "id": "view-in-github",
        "colab_type": "text"
      },
      "source": [
        "<a href=\"https://colab.research.google.com/github/IamAgranshRastogi/Neural_Network/blob/main/Gates_Using_Perceptron.ipynb\" target=\"_parent\"><img src=\"https://colab.research.google.com/assets/colab-badge.svg\" alt=\"Open In Colab\"/></a>"
      ]
    },
    {
      "cell_type": "markdown",
      "source": [
        "#OR Gate using Perceptron Model"
      ],
      "metadata": {
        "id": "xhGH7fxhjZqQ"
      }
    },
    {
      "cell_type": "code",
      "source": [
        "import numpy as np\n",
        "\n",
        "weight = np.array([1,1])\n",
        "bias = -0.5\n",
        "inputs = np.array([[0, 0], [0, 1], [1, 0], [1, 1]])\n",
        "\n",
        "def OR_perceptron(x, weight, bias):\n",
        "\n",
        "    fx = np.dot(weight, x)  + bias\n",
        "\n",
        "    if fx >= 0:\n",
        "        return i, 1\n",
        "    else:\n",
        "        return i, 0\n",
        "\n",
        "for i in inputs:\n",
        "    print(OR_perceptron(i, weight, bias))"
      ],
      "metadata": {
        "colab": {
          "base_uri": "https://localhost:8080/"
        },
        "id": "ywp3303RjVmu",
        "outputId": "f838444e-ac63-4a78-e249-a502248b9f98"
      },
      "execution_count": null,
      "outputs": [
        {
          "output_type": "stream",
          "name": "stdout",
          "text": [
            "(array([0, 0]), 0)\n",
            "(array([0, 1]), 1)\n",
            "(array([1, 0]), 1)\n",
            "(array([1, 1]), 1)\n"
          ]
        }
      ]
    },
    {
      "cell_type": "markdown",
      "source": [
        "#And Gate Using Percepton Model"
      ],
      "metadata": {
        "id": "FBzz6rdnipnH"
      }
    },
    {
      "cell_type": "code",
      "source": [
        "import numpy as np\n",
        "\n",
        "weight = np.array([1,1])\n",
        "bias = -1.5\n",
        "inputs = np.array([[0, 0], [0, 1], [1, 0], [1, 1]])\n",
        "\n",
        "def AND_perceptron(x, weight, bias):\n",
        "\n",
        "    fx = np.dot(weight, x)  + bias\n",
        "\n",
        "    if fx >= 0:\n",
        "        return i, 1\n",
        "    else:\n",
        "        return i, 0\n",
        "\n",
        "for i in inputs:\n",
        "    print(AND_perceptron(i, weight, bias))"
      ],
      "metadata": {
        "colab": {
          "base_uri": "https://localhost:8080/"
        },
        "id": "bYIGbANGkRxo",
        "outputId": "8423cc38-8a64-456c-ec50-4d4fb74cf801"
      },
      "execution_count": null,
      "outputs": [
        {
          "output_type": "stream",
          "name": "stdout",
          "text": [
            "(array([0, 0]), 0)\n",
            "(array([0, 1]), 0)\n",
            "(array([1, 0]), 0)\n",
            "(array([1, 1]), 1)\n"
          ]
        }
      ]
    }
  ]
}